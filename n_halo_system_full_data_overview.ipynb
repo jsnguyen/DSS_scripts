{
 "cells": [
  {
   "cell_type": "markdown",
   "metadata": {
    "deletable": true,
    "editable": true
   },
   "source": [
    "# <center> N Halo System Full Data Overview <br> <br>Jayke Nguyen <br> 7/1/2017</center>"
   ]
  },
  {
   "cell_type": "markdown",
   "metadata": {
    "deletable": true,
    "editable": true
   },
   "source": [
    "### Plotting various histograms of different measures of data to get a sense of what our dataset looks like "
   ]
  },
  {
   "cell_type": "code",
   "execution_count": 32,
   "metadata": {
    "collapsed": true,
    "deletable": true,
    "editable": true
   },
   "outputs": [],
   "source": [
    "import numpy as np\n",
    "import matplotlib.pyplot as plt\n",
    "import json\n",
    "%matplotlib inline"
   ]
  },
  {
   "cell_type": "code",
   "execution_count": 17,
   "metadata": {
    "collapsed": false,
    "deletable": true,
    "editable": true
   },
   "outputs": [],
   "source": [
    "root_dir='/home/jsnguyen/DSS_data/n_system/'\n",
    "filename='full_data_n_halo_reduced_5Mpc_mass_filter_halo_1e+14.json'\n",
    "\n",
    "with open(root_dir+filename) as f:\n",
    "    systems=[]\n",
    "    for line in f:\n",
    "        systems.append(json.loads(line))"
   ]
  },
  {
   "cell_type": "code",
   "execution_count": 19,
   "metadata": {
    "collapsed": false,
    "deletable": true,
    "editable": true,
    "scrolled": true
   },
   "outputs": [
    {
     "name": "stdout",
     "output_type": "stream",
     "text": [
      "number of systems: 1071013\n"
     ]
    }
   ],
   "source": [
    "print 'number of systems:',len(systems)"
   ]
  },
  {
   "cell_type": "code",
   "execution_count": 21,
   "metadata": {
    "collapsed": false
   },
   "outputs": [
    {
     "name": "stdout",
     "output_type": "stream",
     "text": [
      "[{u'r200b': 1.7135345661145114, u'pid': -1, u'mvir': 121841037683976.16, u'y': 170.63741153027453, u'x': 39.272331690348274, u'vx': 346.4371337890625, u'vy': 172.72752380371094, u'vz': 218.27659606933594, u'z': 116.84940501719527, u'id': 22313}, {u'r200b': 1.9858737947563614, u'pid': -1, u'mvir': 225919506193709.3, u'y': 172.70757429117376, u'x': 39.29988318725048, u'vx': -469.16796875, u'vy': -59.933860778808594, u'vz': 468.171630859375, u'z': 117.52592053344326, u'id': 22314}]\n"
     ]
    }
   ],
   "source": [
    "print systems[0]"
   ]
  },
  {
   "cell_type": "code",
   "execution_count": 34,
   "metadata": {
    "collapsed": false,
    "deletable": true,
    "editable": true
   },
   "outputs": [],
   "source": [
    "system_count={}\n",
    "for i in systems:\n",
    "    if len(i) not in system_count.keys():\n",
    "        system_count[len(i)]=1\n",
    "    else:\n",
    "        system_count[len(i)]+=1"
   ]
  },
  {
   "cell_type": "code",
   "execution_count": 41,
   "metadata": {
    "collapsed": false
   },
   "outputs": [
    {
     "name": "stdout",
     "output_type": "stream",
     "text": [
      "{2: 1044936, 3: 25606, 4: 463, 5: 8}\n"
     ]
    }
   ],
   "source": [
    "print system_count"
   ]
  },
  {
   "cell_type": "code",
   "execution_count": 49,
   "metadata": {
    "collapsed": true
   },
   "outputs": [],
   "source": [
    "avg_mass = []\n",
    "for sys in systems:\n",
    "    mass=0\n",
    "    for i in sys:\n",
    "        mass+=i['mvir']\n",
    "        \n",
    "    avg_mass.append(mass/len(sys))"
   ]
  },
  {
   "cell_type": "code",
   "execution_count": 67,
   "metadata": {
    "collapsed": false,
    "deletable": true,
    "editable": true,
    "scrolled": false
   },
   "outputs": [
    {
     "data": {
      "image/png": "[encoded data removed]",
      "text/plain": [
       "<matplotlib.figure.Figure at 0x7fc1d9fbbe10>"
      ]
     },
     "metadata": {},
     "output_type": "display_data"
    },
    {
     "name": "stdout",
     "output_type": "stream",
     "text": [
      "min: 1.00049251582e+14\n",
      "max: 2.16374242647e+15\n"
     ]
    }
   ],
   "source": [
    "plt.figure(figsize=(18,6))\n",
    "plt.hist(avg_mass,bins=100)\n",
    "plt.title('Mass Distribution')\n",
    "plt.xlabel('Average Mass')\n",
    "plt.ylabel('Counts')\n",
    "plt.yscale('log')\n",
    "plt.savefig('DSS_n_system_mass_distribution.png',bbox_inches='tight')\n",
    "plt.show()\n",
    "\n",
    "print 'min:',min(avg_mass)\n",
    "print 'max:',max(avg_mass)"
   ]
  }
 ],
 "metadata": {
  "kernelspec": {
   "display_name": "Python 2",
   "language": "python",
   "name": "python2"
  },
  "language_info": {
   "codemirror_mode": {
    "name": "ipython",
    "version": 2
   },
   "file_extension": ".py",
   "mimetype": "text/x-python",
   "name": "python",
   "nbconvert_exporter": "python",
   "pygments_lexer": "ipython2",
   "version": "2.7.12"
  }
 },
 "nbformat": 4,
 "nbformat_minor": 2
}
